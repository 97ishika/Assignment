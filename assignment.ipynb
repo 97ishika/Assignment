{
 "cells": [
  {
   "cell_type": "code",
   "execution_count": 1,
   "metadata": {
    "_cell_guid": "b1076dfc-b9ad-4769-8c92-a6c4dae69d19",
    "_uuid": "8f2839f25d086af736a60e9eeb907d3b93b6e0e5",
    "execution": {
     "iopub.execute_input": "2021-01-20T14:01:52.185859Z",
     "iopub.status.busy": "2021-01-20T14:01:52.185079Z",
     "iopub.status.idle": "2021-01-20T14:01:52.195802Z",
     "shell.execute_reply": "2021-01-20T14:01:52.196377Z"
    },
    "papermill": {
     "duration": 0.026388,
     "end_time": "2021-01-20T14:01:52.196562",
     "exception": false,
     "start_time": "2021-01-20T14:01:52.170174",
     "status": "completed"
    },
    "tags": []
   },
   "outputs": [
    {
     "name": "stdout",
     "output_type": "stream",
     "text": [
      "/kaggle/input/level-progress/level_progress.csv\n"
     ]
    }
   ],
   "source": [
    "# This Python 3 environment comes with many helpful analytics libraries installed\n",
    "# It is defined by the kaggle/python Docker image: https://github.com/kaggle/docker-python\n",
    "# For example, here's several helpful packages to load\n",
    "\n",
    "import numpy as np # linear algebra\n",
    "import pandas as pd # data processing, CSV file I/O (e.g. pd.read_csv)\n",
    "\n",
    "# Input data files are available in the read-only \"../input/\" directory\n",
    "# For example, running this (by clicking run or pressing Shift+Enter) will list all files under the input directory\n",
    "\n",
    "import os\n",
    "for dirname, _, filenames in os.walk('/kaggle/input'):\n",
    "    for filename in filenames:\n",
    "        print(os.path.join(dirname, filename))\n",
    "\n",
    "# You can write up to 20GB to the current directory (/kaggle/working/) that gets preserved as output when you create a version using \"Save & Run All\" \n",
    "# You can also write temporary files to /kaggle/temp/, but they won't be saved outside of the current session"
   ]
  },
  {
   "cell_type": "code",
   "execution_count": 2,
   "metadata": {
    "execution": {
     "iopub.execute_input": "2021-01-20T14:01:52.216168Z",
     "iopub.status.busy": "2021-01-20T14:01:52.215148Z",
     "iopub.status.idle": "2021-01-20T14:01:52.437783Z",
     "shell.execute_reply": "2021-01-20T14:01:52.437020Z"
    },
    "papermill": {
     "duration": 0.231943,
     "end_time": "2021-01-20T14:01:52.437908",
     "exception": false,
     "start_time": "2021-01-20T14:01:52.205965",
     "status": "completed"
    },
    "tags": []
   },
   "outputs": [],
   "source": [
    "import pandas as pd\n",
    "import matplotlib.pyplot as plt\n",
    "import statistics\n",
    "data = pd.read_csv(\"../input/level-progress/level_progress.csv\")\n"
   ]
  },
  {
   "cell_type": "markdown",
   "metadata": {
    "papermill": {
     "duration": 0.006288,
     "end_time": "2021-01-20T14:01:52.451054",
     "exception": false,
     "start_time": "2021-01-20T14:01:52.444766",
     "status": "completed"
    },
    "tags": []
   },
   "source": [
    "# Point of interest is to see the relation between game level and status of completion.\n"
   ]
  },
  {
   "cell_type": "markdown",
   "metadata": {
    "papermill": {
     "duration": 0.006023,
     "end_time": "2021-01-20T14:01:52.463521",
     "exception": false,
     "start_time": "2021-01-20T14:01:52.457498",
     "status": "completed"
    },
    "tags": []
   },
   "source": [
    "# Objective: Find the level where players are most likely to fail"
   ]
  },
  {
   "cell_type": "code",
   "execution_count": 3,
   "metadata": {
    "execution": {
     "iopub.execute_input": "2021-01-20T14:01:52.481579Z",
     "iopub.status.busy": "2021-01-20T14:01:52.480940Z",
     "iopub.status.idle": "2021-01-20T14:01:52.554623Z",
     "shell.execute_reply": "2021-01-20T14:01:52.554043Z"
    },
    "papermill": {
     "duration": 0.084841,
     "end_time": "2021-01-20T14:01:52.554757",
     "exception": false,
     "start_time": "2021-01-20T14:01:52.469916",
     "status": "completed"
    },
    "tags": []
   },
   "outputs": [],
   "source": [
    "data = data.dropna() #removing the rows with missing data\n",
    "fail = data[data['status'] == 'fail'] #Finding those rows where status is Fail\n"
   ]
  },
  {
   "cell_type": "code",
   "execution_count": 4,
   "metadata": {
    "execution": {
     "iopub.execute_input": "2021-01-20T14:01:52.572617Z",
     "iopub.status.busy": "2021-01-20T14:01:52.571608Z",
     "iopub.status.idle": "2021-01-20T14:01:52.790195Z",
     "shell.execute_reply": "2021-01-20T14:01:52.789575Z"
    },
    "papermill": {
     "duration": 0.228824,
     "end_time": "2021-01-20T14:01:52.790312",
     "exception": false,
     "start_time": "2021-01-20T14:01:52.561488",
     "status": "completed"
    },
    "tags": []
   },
   "outputs": [
    {
     "data": {
      "image/png": "[encoded data removed]",
      "text/plain": [
       "<Figure size 432x288 with 1 Axes>"
      ]
     },
     "metadata": {
      "needs_background": "light"
     },
     "output_type": "display_data"
    }
   ],
   "source": [
    "fig = plt.figure()\n",
    "plt.hist(fail['level_number'], bins = [5, 10, 15, 20, 25, 30, 35, 40, 45, 50])\n",
    "plt.xlabel('Level Number')\n",
    "plt.ylabel('Frequency')\n",
    "plt.show()"
   ]
  },
  {
   "cell_type": "markdown",
   "metadata": {
    "papermill": {
     "duration": 0.007316,
     "end_time": "2021-01-20T14:01:52.805350",
     "exception": false,
     "start_time": "2021-01-20T14:01:52.798034",
     "status": "completed"
    },
    "tags": []
   },
   "source": [
    "# Graph is highly right skewed, so can't use mean to find the central tendency. \n",
    "# I'm using mode because it'll give the highest frequency for the level number."
   ]
  },
  {
   "cell_type": "code",
   "execution_count": 5,
   "metadata": {
    "execution": {
     "iopub.execute_input": "2021-01-20T14:01:52.828204Z",
     "iopub.status.busy": "2021-01-20T14:01:52.827267Z",
     "iopub.status.idle": "2021-01-20T14:01:52.830758Z",
     "shell.execute_reply": "2021-01-20T14:01:52.831301Z"
    },
    "papermill": {
     "duration": 0.018536,
     "end_time": "2021-01-20T14:01:52.831448",
     "exception": false,
     "start_time": "2021-01-20T14:01:52.812912",
     "status": "completed"
    },
    "tags": []
   },
   "outputs": [
    {
     "name": "stdout",
     "output_type": "stream",
     "text": [
      "Level number where most players fail is 3\n"
     ]
    }
   ],
   "source": [
    "print(\"Level number where most players fail is\", statistics.mode(fail['level_number']))"
   ]
  }
 ],
 "metadata": {
  "kernelspec": {
   "display_name": "Python 3",
   "language": "python",
   "name": "python3"
  },
  "language_info": {
   "codemirror_mode": {
    "name": "ipython",
    "version": 3
   },
   "file_extension": ".py",
   "mimetype": "text/x-python",
   "name": "python",
   "nbconvert_exporter": "python",
   "pygments_lexer": "ipython3",
   "version": "3.7.6"
  },
  "papermill": {
   "duration": 7.049349,
   "end_time": "2021-01-20T14:01:53.910837",
   "environment_variables": {},
   "exception": null,
   "input_path": "__notebook__.ipynb",
   "output_path": "__notebook__.ipynb",
   "parameters": {},
   "start_time": "2021-01-20T14:01:46.861488",
   "version": "2.1.0"
  }
 },
 "nbformat": 4,
 "nbformat_minor": 4
}
